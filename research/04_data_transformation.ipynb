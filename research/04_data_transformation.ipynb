{
 "cells": [
  {
   "cell_type": "code",
   "execution_count": 1,
   "id": "38eb2a4b",
   "metadata": {},
   "outputs": [],
   "source": [
    "import os"
   ]
  },
  {
   "cell_type": "code",
   "execution_count": 2,
   "id": "17c2ac6b",
   "metadata": {},
   "outputs": [
    {
     "data": {
      "text/plain": [
       "'d:\\\\AI Personal Projects\\\\Machine Learning Projects\\\\Customer Churn Prediction\\\\Customer-Churn-Prediction-\\\\research'"
      ]
     },
     "execution_count": 2,
     "metadata": {},
     "output_type": "execute_result"
    }
   ],
   "source": [
    "%pwd"
   ]
  },
  {
   "cell_type": "code",
   "execution_count": 3,
   "id": "eaaac08d",
   "metadata": {},
   "outputs": [],
   "source": [
    "os.chdir(\"../\")"
   ]
  },
  {
   "cell_type": "code",
   "execution_count": 4,
   "id": "18229914",
   "metadata": {},
   "outputs": [
    {
     "data": {
      "text/plain": [
       "'d:\\\\AI Personal Projects\\\\Machine Learning Projects\\\\Customer Churn Prediction\\\\Customer-Churn-Prediction-'"
      ]
     },
     "execution_count": 4,
     "metadata": {},
     "output_type": "execute_result"
    }
   ],
   "source": [
    "%pwd"
   ]
  },
  {
   "cell_type": "code",
   "execution_count": 5,
   "id": "128072b8",
   "metadata": {},
   "outputs": [],
   "source": [
    "from dataclasses import dataclass\n",
    "from pathlib import Path\n",
    "\n",
    "@dataclass(frozen=True)\n",
    "class DataTransformationConfig:\n",
    "    root_dir: Path\n",
    "    data_path: Path\n",
    "    balancing_method: str"
   ]
  },
  {
   "cell_type": "code",
   "execution_count": 6,
   "id": "8ddb0e3b",
   "metadata": {},
   "outputs": [],
   "source": [
    "from CustomerChurn.constants import *\n",
    "from CustomerChurn.utils.common import read_yaml, create_directories"
   ]
  },
  {
   "cell_type": "code",
   "execution_count": 7,
   "id": "a4dd31c5",
   "metadata": {},
   "outputs": [],
   "source": [
    "class ConfigurationManager:\n",
    "    def __init__(\n",
    "        self,\n",
    "        config_filepath = CONFIG_FILE_PATH,\n",
    "        params_filepath = PARAMS_FILE_PATH,\n",
    "        schema_filepath = SCHEMA_FILE_PATH):\n",
    "        \n",
    "        self.config = read_yaml(config_filepath)\n",
    "        self.params = read_yaml(params_filepath)\n",
    "        self.schema = read_yaml(schema_filepath)\n",
    "        \n",
    "        create_directories([self.config.artifacts_root])\n",
    "        \n",
    "    def get_data_transformation_config(self) -> DataTransformationConfig:\n",
    "        config = self.config.data_transformation\n",
    "        params = self.params.DataTransformation\n",
    "\n",
    "        create_directories([config.root_dir])\n",
    "\n",
    "        data_transformation_config = DataTransformationConfig(\n",
    "            root_dir=config.root_dir,\n",
    "            data_path=config.data_path,\n",
    "            balancing_method=params.balancing_method\n",
    "        )\n",
    "\n",
    "        return data_transformation_config"
   ]
  },
  {
   "cell_type": "code",
   "execution_count": 8,
   "id": "65d5f328",
   "metadata": {},
   "outputs": [],
   "source": [
    "import os\n",
    "import pandas as pd\n",
    "from typing import Union\n",
    "from CustomerChurn import logger\n",
    "from sklearn.model_selection import train_test_split\n",
    "from imblearn.over_sampling import ADASYN\n",
    "from imblearn.combine import SMOTEENN"
   ]
  },
  {
   "cell_type": "code",
   "execution_count": 9,
   "id": "94391b78",
   "metadata": {},
   "outputs": [],
   "source": [
    "class DataTransformation:\n",
    "    def __init__(self, config: DataTransformationConfig):\n",
    "        self.config = config\n",
    "    \n",
    "    def load_data(self) -> pd.DataFrame:\n",
    "        try:\n",
    "            data = pd.read_csv(self.config.data_path)\n",
    "            logger.info(\"Data loaded successfully.\")\n",
    "            return data\n",
    "        except Exception as e:\n",
    "            logger.error(f\"Error loading data: {e}\")\n",
    "            raise e\n",
    "\n",
    "    def encode_data(self, data: pd.DataFrame) -> pd.DataFrame:\n",
    "        try:\n",
    "            binary_columns = ['Partner', 'Dependents', 'PaperlessBilling', 'Churn', 'PhoneService']\n",
    "            data[binary_columns] = data[binary_columns].map(lambda x: 1 if x == 'Yes' else 0)\n",
    "            \n",
    "            data['gender'] = data['gender'].apply(lambda x: 1 if x == 'Female' else 0)\n",
    "\n",
    "            data['MultipleLines'] = data['MultipleLines'].map({'No phone service': 0, 'No': 0, 'Yes': 1})\n",
    "\n",
    "            internet_service_columns = ['OnlineSecurity', 'OnlineBackup', 'DeviceProtection', 'TechSupport', 'StreamingTV', 'StreamingMovies']\n",
    "            data[internet_service_columns] = data[internet_service_columns].replace({'No internet service': 0, 'No': 0, 'Yes': 1})\n",
    "\n",
    "            categorical_columns = ['InternetService', 'Contract', 'PaymentMethod']\n",
    "            data = pd.get_dummies(data, columns=categorical_columns, drop_first=True, dtype='int')\n",
    "\n",
    "            return data\n",
    "\n",
    "        except Exception as e:\n",
    "            logger.error(f\"Error during data encoding: {str(e)}\")\n",
    "            raise e\n",
    "\n",
    "    def feature_engineering(self, data: pd.DataFrame) -> pd.DataFrame:\n",
    "        try:\n",
    "            data['avg_monthly_value'] = data['TotalCharges'] / (data['tenure'] + 1)\n",
    "            data['tenure_ratio'] = data['tenure'] / (data['TotalCharges'] + 1)\n",
    "            data['service_density'] = data['OnlineSecurity'] + data['OnlineBackup'] + data['TechSupport']\n",
    "            data['tenure_MonthlyCharges'] = data['tenure'] * data['MonthlyCharges']\n",
    "            logger.info(\"Feature engineering complete.\")\n",
    "            return data\n",
    "        \n",
    "        except Exception as e:\n",
    "            logger.error(f\"Error in feature engineering: {str(e)}\")\n",
    "            raise e\n",
    "\n",
    "    def data_balancing(self, data: pd.DataFrame) -> Union[pd.DataFrame, pd.Series]:\n",
    "        try:\n",
    "            X = data.drop('Churn', axis=1)\n",
    "            y = data['Churn']\n",
    "            method = self.config.balancing_method\n",
    "            \n",
    "            if method == 'SMOTEENN':\n",
    "                smoteenn = SMOTEENN()\n",
    "                X_res, y_res = smoteenn.fit_resample(X, y)\n",
    "                logger.info(\"Data balanced using SMOTEENN.\")\n",
    "            elif method == 'ADASYN':\n",
    "                adasyn = ADASYN()\n",
    "                X_res, y_res = adasyn.fit_resample(X, y)\n",
    "                logger.info(\"Data balanced using ADASYN.\")\n",
    "            else:\n",
    "                raise ValueError(f\"Invalid method: {method}. Choose either 'SMOTEENN' or 'ADASYN'.\")\n",
    "            \n",
    "            logger.info(f\"Before balancing: {y.value_counts()}\")\n",
    "            logger.info(f\"After balancing: {y_res.value_counts()}\")\n",
    "            \n",
    "            balanced_data = pd.DataFrame(X_res, columns=X.columns)\n",
    "            balanced_data['Churn'] = y_res.values\n",
    "            return balanced_data\n",
    "\n",
    "        except Exception as e:\n",
    "            logger.error(f\"Error during data balancing: {str(e)}\")\n",
    "            raise e\n",
    "\n",
    "    def train_test_splitting(self, data: pd.DataFrame):\n",
    "        \n",
    "        try:\n",
    "            train, test = train_test_split(data, test_size=0.2, random_state=42, stratify=data['Churn'])\n",
    "\n",
    "            if isinstance(train, pd.DataFrame) and isinstance(test, pd.DataFrame):\n",
    "                train.to_csv(os.path.join(self.config.root_dir, \"train.csv\"), index=False)\n",
    "                test.to_csv(os.path.join(self.config.root_dir, \"test.csv\"), index=False)\n",
    "\n",
    "                logger.info(\"Data split into training and test sets.\")\n",
    "                logger.info(f\"Train set shape: {train.shape}\")\n",
    "                logger.info(f\"Test set shape: {test.shape}\")\n",
    "                logger.info(f\"Train CSV saved to: {os.path.join(self.config.root_dir, 'train.csv')}\")\n",
    "                logger.info(f\"Test CSV saved to: {os.path.join(self.config.root_dir, 'test.csv')}\")\n",
    "            else:\n",
    "                raise ValueError(\"Train-test split did not return DataFrames.\")\n",
    "\n",
    "        except Exception as e:\n",
    "            logger.error(f\"Error during train-test splitting: {str(e)}\")\n",
    "            raise e"
   ]
  },
  {
   "cell_type": "code",
   "execution_count": 10,
   "id": "45ac8a7b",
   "metadata": {},
   "outputs": [
    {
     "name": "stdout",
     "output_type": "stream",
     "text": [
      "[2025-07-19 00:49:29,045] 32 CustomerChurnLogger - common - INFO - yaml file: config\\config.yaml loaded successfully\n",
      "[2025-07-19 00:49:29,046] 32 CustomerChurnLogger - common - INFO - yaml file: params.yaml loaded successfully\n",
      "[2025-07-19 00:49:29,061] 32 CustomerChurnLogger - common - INFO - yaml file: schema.yaml loaded successfully\n",
      "[2025-07-19 00:49:29,062] 52 CustomerChurnLogger - common - INFO - Created directory at: artifacts\n",
      "[2025-07-19 00:49:29,063] 52 CustomerChurnLogger - common - INFO - Created directory at: artifacts/data_transformation\n",
      "[2025-07-19 00:49:29,363] 8 CustomerChurnLogger - 3657965283 - INFO - Data loaded successfully.\n",
      "[2025-07-19 00:49:29,503] 41 CustomerChurnLogger - 3657965283 - INFO - Feature engineering complete.\n"
     ]
    },
    {
     "name": "stderr",
     "output_type": "stream",
     "text": [
      "C:\\Users\\prade\\AppData\\Local\\Temp\\ipykernel_10612\\3657965283.py:24: FutureWarning: Downcasting behavior in `replace` is deprecated and will be removed in a future version. To retain the old behavior, explicitly call `result.infer_objects(copy=False)`. To opt-in to the future behavior, set `pd.set_option('future.no_silent_downcasting', True)`\n",
      "  data[internet_service_columns] = data[internet_service_columns].replace({'No internet service': 0, 'No': 0, 'Yes': 1})\n"
     ]
    },
    {
     "name": "stdout",
     "output_type": "stream",
     "text": [
      "[2025-07-19 00:49:36,525] 61 CustomerChurnLogger - 3657965283 - INFO - Data balanced using ADASYN.\n",
      "[2025-07-19 00:49:36,531] 65 CustomerChurnLogger - 3657965283 - INFO - Before balancing: Churn\n",
      "0    5163\n",
      "1    1869\n",
      "Name: count, dtype: int64\n",
      "[2025-07-19 00:49:36,532] 66 CustomerChurnLogger - 3657965283 - INFO - After balancing: Churn\n",
      "1    5293\n",
      "0    5163\n",
      "Name: count, dtype: int64\n",
      "[2025-07-19 00:49:36,670] 85 CustomerChurnLogger - 3657965283 - INFO - Data split into training and test sets.\n",
      "[2025-07-19 00:49:36,671] 86 CustomerChurnLogger - 3657965283 - INFO - Train set shape: (8364, 28)\n",
      "[2025-07-19 00:49:36,672] 87 CustomerChurnLogger - 3657965283 - INFO - Test set shape: (2092, 28)\n",
      "[2025-07-19 00:49:36,673] 88 CustomerChurnLogger - 3657965283 - INFO - Train CSV saved to: artifacts/data_transformation\\train.csv\n",
      "[2025-07-19 00:49:36,673] 89 CustomerChurnLogger - 3657965283 - INFO - Test CSV saved to: artifacts/data_transformation\\test.csv\n"
     ]
    }
   ],
   "source": [
    "try:\n",
    "    config = ConfigurationManager()\n",
    "    data_transformation_config = config.get_data_transformation_config()\n",
    "    data_transformation = DataTransformation(config=data_transformation_config)\n",
    "    data = data_transformation.load_data()\n",
    "    data = data_transformation.encode_data(data=data)\n",
    "    data = data_transformation.feature_engineering(data=data)\n",
    "    balanced_data = data_transformation.data_balancing(data=data)\n",
    "    data_transformation.train_test_splitting(data=balanced_data)\n",
    "except Exception as e:\n",
    "    logger.error(f\"An error occurred during the transformation process: {e}\")\n",
    "    raise e"
   ]
  }
 ],
 "metadata": {
  "kernelspec": {
   "display_name": "venv",
   "language": "python",
   "name": "python3"
  },
  "language_info": {
   "codemirror_mode": {
    "name": "ipython",
    "version": 3
   },
   "file_extension": ".py",
   "mimetype": "text/x-python",
   "name": "python",
   "nbconvert_exporter": "python",
   "pygments_lexer": "ipython3",
   "version": "3.12.3"
  }
 },
 "nbformat": 4,
 "nbformat_minor": 5
}
