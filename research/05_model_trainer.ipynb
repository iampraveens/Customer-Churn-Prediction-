{
 "cells": [
  {
   "cell_type": "code",
   "execution_count": 1,
   "id": "4811a929",
   "metadata": {},
   "outputs": [],
   "source": [
    "import os"
   ]
  },
  {
   "cell_type": "code",
   "execution_count": 2,
   "id": "0db312da",
   "metadata": {},
   "outputs": [
    {
     "data": {
      "text/plain": [
       "'d:\\\\AI Personal Projects\\\\Machine Learning Projects\\\\Customer Churn Prediction\\\\Customer-Churn-Prediction-\\\\research'"
      ]
     },
     "execution_count": 2,
     "metadata": {},
     "output_type": "execute_result"
    }
   ],
   "source": [
    "%pwd"
   ]
  },
  {
   "cell_type": "code",
   "execution_count": 3,
   "id": "6b8979da",
   "metadata": {},
   "outputs": [],
   "source": [
    "os.chdir(\"../\")"
   ]
  },
  {
   "cell_type": "code",
   "execution_count": 4,
   "id": "2925d4b7",
   "metadata": {},
   "outputs": [
    {
     "data": {
      "text/plain": [
       "'d:\\\\AI Personal Projects\\\\Machine Learning Projects\\\\Customer Churn Prediction\\\\Customer-Churn-Prediction-'"
      ]
     },
     "execution_count": 4,
     "metadata": {},
     "output_type": "execute_result"
    }
   ],
   "source": [
    "%pwd"
   ]
  },
  {
   "cell_type": "code",
   "execution_count": 8,
   "id": "168fb3a0",
   "metadata": {},
   "outputs": [],
   "source": [
    "from dataclasses import dataclass\n",
    "from pathlib import Path\n",
    "\n",
    "@dataclass(frozen=True)\n",
    "class ModelTrainerConfig:\n",
    "    root_dir: Path\n",
    "    train_data_path: Path\n",
    "    test_data_path: Path\n",
    "    model_name: str\n",
    "    target_column: str\n",
    "    model: str"
   ]
  },
  {
   "cell_type": "code",
   "execution_count": 7,
   "id": "83b146a3",
   "metadata": {},
   "outputs": [],
   "source": [
    "from CustomerChurn.constants import *\n",
    "from CustomerChurn.utils.common import read_yaml, create_directories"
   ]
  },
  {
   "cell_type": "code",
   "execution_count": null,
   "id": "a3e4606b",
   "metadata": {},
   "outputs": [],
   "source": [
    "class ConfigurationManager:\n",
    "    def __init__(\n",
    "        self,\n",
    "        config_filepath = CONFIG_FILE_PATH,\n",
    "        params_filepath = PARAMS_FILE_PATH,\n",
    "        schema_filepath = SCHEMA_FILE_PATH):\n",
    "        \n",
    "        self.config = read_yaml(config_filepath)\n",
    "        self.params = read_yaml(params_filepath)\n",
    "        self.schema = read_yaml(schema_filepath)\n",
    "        \n",
    "        create_directories([self.config.artifacts_root])\n",
    "        \n",
    "    def get_model_trainer_config(self) -> ModelTrainerConfig:\n",
    "        config = self.config.model_trainer\n",
    "        model_type = self.params.ModelTrainer.model  \n",
    "        params = self.params[model_type]             \n",
    "        schema = self.schema.TARGET_COLUMN\n",
    "\n",
    "        create_directories([config.root_dir])\n",
    "\n",
    "        model_trainer_config = ModelTrainerConfig(\n",
    "            root_dir=config.root_dir,\n",
    "            train_data_path=config.train_data_path,\n",
    "            test_data_path=config.test_data_path,\n",
    "            model_name=config.model_name,\n",
    "            target_column=schema.name,\n",
    "            model=model_type\n",
    "        )\n",
    "\n",
    "        return model_trainer_config"
   ]
  },
  {
   "cell_type": "code",
   "execution_count": 10,
   "id": "600d19ad",
   "metadata": {},
   "outputs": [],
   "source": [
    "import pandas as pd \n",
    "import os\n",
    "import joblib\n",
    "from sklearn.linear_model import LogisticRegression\n",
    "from sklearn.ensemble import RandomForestClassifier\n",
    "from xgboost import XGBClassifier\n",
    "from CustomerChurn import logger"
   ]
  },
  {
   "cell_type": "code",
   "execution_count": null,
   "id": "822179eb",
   "metadata": {},
   "outputs": [],
   "source": [
    "class ModelTrainer:\n",
    "    def __init__(self, config: ModelTrainerConfig):\n",
    "        self.config = config\n",
    "        \n",
    "    def train(self):\n",
    "        train_data = pd.read_csv(self.config.train_data_path)\n",
    "        test_data = pd.read_csv(self.config.test_data_path)\n",
    "\n",
    "        X_train = train_data.drop([self.config.target_column], axis=1)\n",
    "        X_test = test_data.drop([self.config.target_column], axis=1)\n",
    "        y_train = train_data[self.config.target_column]\n",
    "        y_test = test_data[self.config.target_column]\n",
    "\n",
    "        model_name = self.config.model\n",
    "        params = read_yaml(PARAMS_FILE_PATH)[model_name]  \n",
    "\n",
    "        if model_name == 'LogisticRegression':\n",
    "            model = LogisticRegression(max_iter=params['max_iter'])\n",
    "        elif model_name == 'RandomForestClassifier':\n",
    "            model = RandomForestClassifier(\n",
    "                n_estimators=params['n_estimators'],\n",
    "                max_depth=params['max_depth'],\n",
    "                min_samples_split=params['min_samples_split'],\n",
    "                min_samples_leaf=params['min_samples_leaf'],\n",
    "                max_features=params['max_features'],\n",
    "                criterion=params['criterion']\n",
    "            )\n",
    "        elif model_name == 'XGBClassifier':\n",
    "            model = XGBClassifier(\n",
    "                max_depth=params['max_depth'],\n",
    "                learning_rate=params['learning_rate'],\n",
    "                n_estimators=params['n_estimators'],\n",
    "                subsample=params['subsample'],\n",
    "                colsample_bytree=params['colsample_bytree']\n",
    "            )\n",
    "        else:\n",
    "            raise ValueError(f\"Invalid model name: {model_name}\")\n",
    "\n",
    "        model.fit(X_train, y_train)\n",
    "        joblib.dump(model, os.path.join(self.config.root_dir, self.config.model_name))\n",
    "        logger.info(f\"{model_name} model trained and saved successfully.\")"
   ]
  },
  {
   "cell_type": "code",
   "execution_count": 12,
   "id": "5eb7cba3",
   "metadata": {},
   "outputs": [
    {
     "name": "stdout",
     "output_type": "stream",
     "text": [
      "[2025-07-24 20:26:39,852] 32 CustomerChurnLogger - common - INFO - yaml file: config\\config.yaml loaded successfully\n",
      "[2025-07-24 20:26:39,857] 32 CustomerChurnLogger - common - INFO - yaml file: params.yaml loaded successfully\n",
      "[2025-07-24 20:26:39,861] 32 CustomerChurnLogger - common - INFO - yaml file: schema.yaml loaded successfully\n",
      "[2025-07-24 20:26:39,863] 52 CustomerChurnLogger - common - INFO - Created directory at: artifacts\n",
      "[2025-07-24 20:26:39,965] 52 CustomerChurnLogger - common - INFO - Created directory at: artifacts/model_trainer\n",
      "[2025-07-24 20:26:40,328] 32 CustomerChurnLogger - common - INFO - yaml file: params.yaml loaded successfully\n",
      "[2025-07-24 20:26:41,243] 41 CustomerChurnLogger - 1355951485 - INFO - LogisticRegression model trained and saved successfully.\n"
     ]
    },
    {
     "name": "stderr",
     "output_type": "stream",
     "text": [
      "d:\\AI Personal Projects\\Machine Learning Projects\\Customer Churn Prediction\\Customer-Churn-Prediction-\\venv\\Lib\\site-packages\\sklearn\\linear_model\\_logistic.py:465: ConvergenceWarning: lbfgs failed to converge (status=1):\n",
      "STOP: TOTAL NO. OF ITERATIONS REACHED LIMIT.\n",
      "\n",
      "Increase the number of iterations (max_iter) or scale the data as shown in:\n",
      "    https://scikit-learn.org/stable/modules/preprocessing.html\n",
      "Please also refer to the documentation for alternative solver options:\n",
      "    https://scikit-learn.org/stable/modules/linear_model.html#logistic-regression\n",
      "  n_iter_i = _check_optimize_result(\n"
     ]
    }
   ],
   "source": [
    "try:\n",
    "    config = ConfigurationManager()\n",
    "    model_trainer_config = config.get_model_trainer_config()\n",
    "    model_trainer = ModelTrainer(config=model_trainer_config)\n",
    "    model_trainer.train()\n",
    "except Exception as e:\n",
    "    raise e"
   ]
  }
 ],
 "metadata": {
  "kernelspec": {
   "display_name": "venv",
   "language": "python",
   "name": "python3"
  },
  "language_info": {
   "codemirror_mode": {
    "name": "ipython",
    "version": 3
   },
   "file_extension": ".py",
   "mimetype": "text/x-python",
   "name": "python",
   "nbconvert_exporter": "python",
   "pygments_lexer": "ipython3",
   "version": "3.12.3"
  }
 },
 "nbformat": 4,
 "nbformat_minor": 5
}
